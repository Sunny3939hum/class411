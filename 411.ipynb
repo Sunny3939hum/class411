{
 "cells": [
  {
   "cell_type": "code",
   "execution_count": null,
   "metadata": {},
   "outputs": [],
   "source": [
    "import cv2\n",
    "import mediapipe as mp\n",
    "import math"
   ]
  },
  {
   "cell_type": "code",
   "execution_count": 14,
   "metadata": {},
   "outputs": [],
   "source": [
    "mp_hands =mp.solutions.hands\n",
    "hands = mp_hands.Hands(\n",
    "    static_image_mode=False,                # 影片流或靜態圖像，先檢測後追蹤\n",
    "    # 手繪地標模型的複雜性: 0 或 1。地標精度以及推斷延遲通常與模型複雜性有關。默認 1。\n",
    "    model_complexity=0,\n",
    "    # max_num_hands=1,                      # 最大手數量\n",
    "    min_detection_confidence=0.5,           # 檢測閥值\n",
    "        min_tracking_confidence=0.5)\n",
    "mp_drawing=mp.solutions.drawing_utils\n",
    "\n",
    "hand_LmsStyle=mp_drawing.DrawingSpec(color=(255,0,255),thickness=5)\n",
    "hand_ConStyle=mp_drawing.DrawingSpec(color=(0,255,255),thickness=8)\n"
   ]
  },
  {
   "cell_type": "code",
   "execution_count": 28,
   "metadata": {},
   "outputs": [],
   "source": [
    "# 根據兩點的座標，計算角度\n",
    "def vector_2d_angle(v1, v2):\n",
    "    v1_x = v1[0]\n",
    "    v1_y = v1[1]\n",
    "    v2_x = v2[0]\n",
    "    v2_y = v2[1]\n",
    "    try:\n",
    "        angle_ = math.degrees(math.acos(\n",
    "            (v1_x*v2_x+v1_y*v2_y)/(((v1_x**2+v1_y**2)**0.5)*((v2_x**2+v2_y**2)**0.5))))\n",
    "    except:\n",
    "        angle_ = 180\n",
    "    return angle_"
   ]
  },
  {
   "cell_type": "code",
   "execution_count": 29,
   "metadata": {},
   "outputs": [],
   "source": [
    "# 根據傳入的 21 個節點座標，得到該手指的角度\n",
    "def hand_angle(hand_):\n",
    "    angle_list = []\n",
    "\n",
    "    angle_ = vector_2d_angle(\n",
    "        ((int(hand_[0][0]) - int(hand_[2][0])),\n",
    "         (int(hand_[0][1])-int(hand_[2][1]))),\n",
    "        ((int(hand_[3][0]) - int(hand_[4][0])),\n",
    "         (int(hand_[3][1]) - int(hand_[4][1])))\n",
    "    )\n",
    "    angle_list.append(angle_)\n",
    "\n",
    "    angle_ = vector_2d_angle(\n",
    "        ((int(hand_[0][0])-int(hand_[6][0])),\n",
    "         (int(hand_[0][1]) - int(hand_[6][1]))),\n",
    "        ((int(hand_[7][0]) - int(hand_[8][0])),\n",
    "         (int(hand_[7][1]) - int(hand_[8][1])))\n",
    "    )\n",
    "    angle_list.append(angle_)\n",
    "\n",
    "    angle_ = vector_2d_angle(\n",
    "        ((int(hand_[0][0]) - int(hand_[10][0])),\n",
    "         (int(hand_[0][1]) - int(hand_[10][1]))),\n",
    "        ((int(hand_[11][0]) - int(hand_[12][0])),\n",
    "         (int(hand_[11][1]) - int(hand_[12][1])))\n",
    "    )\n",
    "    angle_list.append(angle_)\n",
    "\n",
    "    angle_ = vector_2d_angle(\n",
    "        ((int(hand_[0][0]) - int(hand_[14][0])),\n",
    "         (int(hand_[0][1]) - int(hand_[14][1]))),\n",
    "        ((int(hand_[15][0]) - int(hand_[16][0])),\n",
    "         (int(hand_[15][1]) - int(hand_[16][1])))\n",
    "    )\n",
    "    angle_list.append(angle_)\n",
    "\n",
    "    angle_ = vector_2d_angle(\n",
    "        ((int(hand_[0][0]) - int(hand_[18][0])),\n",
    "         (int(hand_[0][1]) - int(hand_[18][1]))),\n",
    "        ((int(hand_[19][0]) - int(hand_[20][0])),\n",
    "         (int(hand_[19][1]) - int(hand_[20][1])))\n",
    "    )\n",
    "    angle_list.append(angle_)\n",
    "    return angle_list"
   ]
  },
  {
   "cell_type": "code",
   "execution_count": 30,
   "metadata": {},
   "outputs": [],
   "source": [
    "# 根據手指角度的串列內容，返回對應的手勢名稱\n",
    "def hand_pos(finger_angle):\n",
    "    f1 = finger_angle[0]\n",
    "    f2 = finger_angle[1]\n",
    "    f3 = finger_angle[2]\n",
    "    f4 = finger_angle[3]\n",
    "    f5 = finger_angle[4]\n",
    "\n",
    "    if f1 >= 50 and f2 >= 50 and f3 >= 50 and f4 >= 50 and f5 >= 50:\n",
    "        return '0'\n",
    "    elif f1 >= 50 and f2 < 50 and f3 >= 50 and f4 >= 50 and f5 >= 50:\n",
    "        return '1'\n",
    "    elif f1 >= 50 and f2 < 50 and f3 < 50 and f4 >= 50 and f5 >= 50:\n",
    "        return '2'\n",
    "    else:\n",
    "        return ''"
   ]
  },
  {
   "cell_type": "code",
   "execution_count": 31,
   "metadata": {},
   "outputs": [
    {
     "ename": "TypeError",
     "evalue": "'>=' not supported between instances of 'tuple' and 'int'",
     "output_type": "error",
     "traceback": [
      "\u001b[1;31m---------------------------------------------------------------------------\u001b[0m",
      "\u001b[1;31mTypeError\u001b[0m                                 Traceback (most recent call last)",
      "\u001b[1;32m~\\AppData\\Local\\Temp\\ipykernel_10792\\4196980552.py\u001b[0m in \u001b[0;36m<module>\u001b[1;34m\u001b[0m\n\u001b[0;32m     18\u001b[0m                 \u001b[1;32mif\u001b[0m \u001b[0mfinger_points\u001b[0m\u001b[1;33m:\u001b[0m\u001b[1;33m\u001b[0m\u001b[1;33m\u001b[0m\u001b[0m\n\u001b[0;32m     19\u001b[0m                     \u001b[0mfinger_angle\u001b[0m \u001b[1;33m=\u001b[0m \u001b[0mhand_angle\u001b[0m\u001b[1;33m(\u001b[0m\u001b[0mfinger_points\u001b[0m\u001b[1;33m)\u001b[0m\u001b[1;33m\u001b[0m\u001b[1;33m\u001b[0m\u001b[0m\n\u001b[1;32m---> 20\u001b[1;33m                     \u001b[0mtest\u001b[0m\u001b[1;33m=\u001b[0m\u001b[0mhand_pos\u001b[0m\u001b[1;33m(\u001b[0m\u001b[0mfinger_points\u001b[0m\u001b[1;33m)\u001b[0m\u001b[1;33m\u001b[0m\u001b[1;33m\u001b[0m\u001b[0m\n\u001b[0m\u001b[0;32m     21\u001b[0m                     \u001b[0mcv2\u001b[0m\u001b[1;33m.\u001b[0m\u001b[0mputText\u001b[0m\u001b[1;33m(\u001b[0m\u001b[0mimg\u001b[0m\u001b[1;33m,\u001b[0m\u001b[0mtext\u001b[0m\u001b[1;33m,\u001b[0m\u001b[1;33m(\u001b[0m\u001b[1;36m30\u001b[0m\u001b[1;33m,\u001b[0m\u001b[1;36m120\u001b[0m\u001b[1;33m)\u001b[0m\u001b[1;33m,\u001b[0m\u001b[0mcv2\u001b[0m\u001b[1;33m.\u001b[0m\u001b[0mFONT_HERSHEY_SIMPLEX\u001b[0m\u001b[1;33m,\u001b[0m\u001b[1;36m3\u001b[0m\u001b[1;33m,\u001b[0m\u001b[1;33m(\u001b[0m\u001b[1;36m255\u001b[0m\u001b[1;33m,\u001b[0m\u001b[1;36m0\u001b[0m\u001b[1;33m,\u001b[0m\u001b[1;36m0\u001b[0m\u001b[1;33m)\u001b[0m\u001b[1;33m,\u001b[0m\u001b[1;36m3\u001b[0m\u001b[1;33m)\u001b[0m\u001b[1;33m\u001b[0m\u001b[1;33m\u001b[0m\u001b[0m\n\u001b[0;32m     22\u001b[0m     \u001b[0mcv2\u001b[0m\u001b[1;33m.\u001b[0m\u001b[0mimshow\u001b[0m\u001b[1;33m(\u001b[0m\u001b[1;34m'hand'\u001b[0m\u001b[1;33m,\u001b[0m\u001b[0mimg\u001b[0m\u001b[1;33m)\u001b[0m\u001b[1;33m\u001b[0m\u001b[1;33m\u001b[0m\u001b[0m\n",
      "\u001b[1;32m~\\AppData\\Local\\Temp\\ipykernel_10792\\3277461512.py\u001b[0m in \u001b[0;36mhand_pos\u001b[1;34m(finger_angle)\u001b[0m\n\u001b[0;32m      7\u001b[0m     \u001b[0mf5\u001b[0m \u001b[1;33m=\u001b[0m \u001b[0mfinger_angle\u001b[0m\u001b[1;33m[\u001b[0m\u001b[1;36m4\u001b[0m\u001b[1;33m]\u001b[0m\u001b[1;33m\u001b[0m\u001b[1;33m\u001b[0m\u001b[0m\n\u001b[0;32m      8\u001b[0m \u001b[1;33m\u001b[0m\u001b[0m\n\u001b[1;32m----> 9\u001b[1;33m     \u001b[1;32mif\u001b[0m \u001b[0mf1\u001b[0m \u001b[1;33m>=\u001b[0m \u001b[1;36m50\u001b[0m \u001b[1;32mand\u001b[0m \u001b[0mf2\u001b[0m \u001b[1;33m>=\u001b[0m \u001b[1;36m50\u001b[0m \u001b[1;32mand\u001b[0m \u001b[0mf3\u001b[0m \u001b[1;33m>=\u001b[0m \u001b[1;36m50\u001b[0m \u001b[1;32mand\u001b[0m \u001b[0mf4\u001b[0m \u001b[1;33m>=\u001b[0m \u001b[1;36m50\u001b[0m \u001b[1;32mand\u001b[0m \u001b[0mf5\u001b[0m \u001b[1;33m>=\u001b[0m \u001b[1;36m50\u001b[0m\u001b[1;33m:\u001b[0m\u001b[1;33m\u001b[0m\u001b[1;33m\u001b[0m\u001b[0m\n\u001b[0m\u001b[0;32m     10\u001b[0m         \u001b[1;32mreturn\u001b[0m \u001b[1;34m'0'\u001b[0m\u001b[1;33m\u001b[0m\u001b[1;33m\u001b[0m\u001b[0m\n\u001b[0;32m     11\u001b[0m     \u001b[1;32melif\u001b[0m \u001b[0mf1\u001b[0m \u001b[1;33m>=\u001b[0m \u001b[1;36m50\u001b[0m \u001b[1;32mand\u001b[0m \u001b[0mf2\u001b[0m \u001b[1;33m<\u001b[0m \u001b[1;36m50\u001b[0m \u001b[1;32mand\u001b[0m \u001b[0mf3\u001b[0m \u001b[1;33m>=\u001b[0m \u001b[1;36m50\u001b[0m \u001b[1;32mand\u001b[0m \u001b[0mf4\u001b[0m \u001b[1;33m>=\u001b[0m \u001b[1;36m50\u001b[0m \u001b[1;32mand\u001b[0m \u001b[0mf5\u001b[0m \u001b[1;33m>=\u001b[0m \u001b[1;36m50\u001b[0m\u001b[1;33m:\u001b[0m\u001b[1;33m\u001b[0m\u001b[1;33m\u001b[0m\u001b[0m\n",
      "\u001b[1;31mTypeError\u001b[0m: '>=' not supported between instances of 'tuple' and 'int'"
     ]
    },
    {
     "ename": "",
     "evalue": "",
     "output_type": "error",
     "traceback": [
      "\u001b[1;31mThe Kernel crashed while executing code in the the current cell or a previous cell. Please review the code in the cell(s) to identify a possible cause of the failure. Click <a href='https://aka.ms/vscodeJupyterKernelCrash'>here</a> for more info. View Jupyter <a href='command:jupyter.viewOutput'>log</a> for further details."
     ]
    }
   ],
   "source": [
    "cap = cv2.VideoCapture(0)\n",
    "\n",
    "while True:\n",
    "    ret,img=cap.read()\n",
    "    img_rgb=cv2.cvtColor(img,cv2.COLOR_BGR2RGB)\n",
    "    results=hands.process(img_rgb)\n",
    "    h=img_rgb.shape[0]\n",
    "    w=img_rgb.shape[1]\n",
    "    \n",
    "    if results.multi_hand_landmarks:\n",
    "            for hand_landmarks in results.multi_hand_landmarks:\n",
    "                mp_drawing.draw_landmarks(img,hand_landmarks,mp_hands.HAND_CONNECTIONS,hand_LmsStyle,hand_ConStyle)\n",
    "                finger_points=[]\n",
    "                for i in hand_landmarks.landmark:\n",
    "                    x=i.x*w\n",
    "                    y=i.y*h\n",
    "                    finger_points.append((x,y))\n",
    "                if finger_points:\n",
    "                    finger_angle = hand_angle(finger_points)\n",
    "                    test=hand_pos(finger_points)\n",
    "                    cv2.putText(img,text,(30,120),cv2.FONT_HERSHEY_SIMPLEX,3,(255,0,0),3)\n",
    "    cv2.imshow('hand',img)\n",
    "    if cv2.waitKey(5)==ord('q'):\n",
    "        break\n",
    "cap.release()\n",
    "cv2.destroyAllWindows()"
   ]
  }
 ],
 "metadata": {
  "kernelspec": {
   "display_name": "SUN_ENV_NAME",
   "language": "python",
   "name": "python3"
  },
  "language_info": {
   "codemirror_mode": {
    "name": "ipython",
    "version": 3
   },
   "file_extension": ".py",
   "mimetype": "text/x-python",
   "name": "python",
   "nbconvert_exporter": "python",
   "pygments_lexer": "ipython3",
   "version": "3.7.16"
  },
  "orig_nbformat": 4
 },
 "nbformat": 4,
 "nbformat_minor": 2
}
